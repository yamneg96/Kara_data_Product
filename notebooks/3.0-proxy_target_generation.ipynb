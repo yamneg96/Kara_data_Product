{
 "cells": [
  {
   "cell_type": "code",
   "execution_count": null,
   "id": "cf856978",
   "metadata": {},
   "outputs": [],
   "source": [
    "import pandas as pd\n",
    "from sklearn.preprocessing import StandardScaler\n",
    "from sklearn.cluster import KMeans\n",
    "\n",
    "df = pd.read_csv(\"data/processed/engineered_features.csv\")\n",
    "\n",
    "# Aggregate per channel\n",
    "agg = df.groupby(\"channel\").agg({\n",
    "    \"has_image\": \"mean\",\n",
    "    \"hour\": \"mean\",\n",
    "    \"text_length\": \"mean\"\n",
    "}).reset_index()\n",
    "\n",
    "scaler = StandardScaler()\n",
    "X_scaled = scaler.fit_transform(agg.drop(columns=\"channel\"))\n",
    "\n",
    "# KMeans clustering\n",
    "kmeans = KMeans(n_clusters=3, random_state=42)\n",
    "agg[\"cluster\"] = kmeans.fit_predict(X_scaled)\n",
    "\n",
    "# Assume cluster with lowest activity is risky\n",
    "agg[\"risk\"] = (agg[\"cluster\"] == agg.groupby(\"cluster\")[\"has_image\"].mean().idxmin()).astype(int)\n",
    "\n",
    "# Merge back\n",
    "df = df.merge(agg[[\"channel\", \"risk\"]], on=\"channel\")\n",
    "df.to_csv(\"data/processed/labeled_risk.csv\", index=False)\n",
    "df.head()\n"
   ]
  }
 ],
 "metadata": {
  "language_info": {
   "name": "python"
  }
 },
 "nbformat": 4,
 "nbformat_minor": 5
}
