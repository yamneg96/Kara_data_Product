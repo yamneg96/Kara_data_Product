{
 "cells": [
  {
   "cell_type": "code",
   "execution_count": null,
   "id": "dd86730f",
   "metadata": {},
   "outputs": [],
   "source": [
    "import requests\n",
    "\n",
    "BASE_URL = \"http://127.0.0.1:8000\"\n",
    "\n",
    "# Test 1: Top Products\n",
    "resp = requests.get(f\"{BASE_URL}/api/reports/top-products?limit=5\")\n",
    "print(\"Top Products:\", resp.json())\n",
    "\n",
    "# Test 2: Channel Activity\n",
    "resp = requests.get(f\"{BASE_URL}/api/channels/chemed/activity\")\n",
    "print(\"Channel Activity:\", resp.json())\n",
    "\n",
    "# Test 3: Search by keyword\n",
    "resp = requests.get(f\"{BASE_URL}/api/search/messages?query=paracetamol\")\n",
    "print(\"Search Results:\", resp.json())\n"
   ]
  }
 ],
 "metadata": {
  "language_info": {
   "name": "python"
  }
 },
 "nbformat": 4,
 "nbformat_minor": 5
}
