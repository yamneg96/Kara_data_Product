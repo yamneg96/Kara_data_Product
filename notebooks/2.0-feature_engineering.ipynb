{
 "cells": [
  {
   "cell_type": "code",
   "execution_count": null,
   "id": "49b33b02",
   "metadata": {},
   "outputs": [],
   "source": [
    "import json\n",
    "import pandas as pd\n",
    "import os\n",
    "import matplotlib.pyplot as plt\n",
    "import seaborn as sns\n",
    "from glob import glob\n",
    "\n",
    "# Load all raw JSON files\n",
    "json_files = glob(\"data/raw/**/*.json\", recursive=True)\n",
    "\n",
    "all_messages = []\n",
    "\n",
    "for file in json_files:\n",
    "    with open(file, 'r', encoding='utf-8') as f:\n",
    "        messages = json.load(f)\n",
    "        for msg in messages:\n",
    "            all_messages.append({\n",
    "                \"channel\": msg.get(\"channel\"),\n",
    "                \"date\": msg.get(\"date\"),\n",
    "                \"text\": msg.get(\"message\", \"\"),\n",
    "                \"has_media\": bool(msg.get(\"media\")),\n",
    "            })\n",
    "\n",
    "df = pd.DataFrame(all_messages)\n",
    "\n",
    "# Convert dates\n",
    "df['date'] = pd.to_datetime(df['date'])\n",
    "\n",
    "# Analysis\n",
    "df['text_length'] = df['text'].str.len()\n",
    "\n",
    "# Plot message count by channel\n",
    "plt.figure(figsize=(10,6))\n",
    "sns.countplot(data=df, y='channel', order=df['channel'].value_counts().index)\n",
    "plt.title(\"Message Count by Channel\")\n",
    "plt.show()\n",
    "\n",
    "# Save for downstream\n",
    "df.to_csv(\"data/processed/messages_flat.csv\", index=False)\n"
   ]
  }
 ],
 "metadata": {
  "language_info": {
   "name": "python"
  }
 },
 "nbformat": 4,
 "nbformat_minor": 5
}
